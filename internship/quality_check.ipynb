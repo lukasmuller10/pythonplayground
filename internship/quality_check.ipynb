{
 "cells": [
  {
   "cell_type": "code",
   "execution_count": 60,
   "metadata": {},
   "outputs": [],
   "source": [
    "import numpy as np\n",
    "import matplotlib.pyplot as plt"
   ]
  },
  {
   "cell_type": "code",
   "execution_count": 52,
   "metadata": {},
   "outputs": [],
   "source": [
    "#to create a modular and user friendly algorithm, i created a Reader Class that contains the necessary functions to \n",
    "#read the files and compare them.\n",
    "\n",
    "class Reader:\n",
    "    def __init__(self, path):\n",
    "        self.path = path    #the Reader object is initialized with the standard file path \n",
    "        self.standardData = self.readFile(path) #in the initialization the method readFile is called to store\n",
    "                                                #the filtered data from the standard txt file\n",
    "        self.errData = []                       \n",
    "        #this is the variable that stores the error Data between the standard and the compare files\n",
    "        \n",
    "        \n",
    "    def readFile(self, name):\n",
    "                filteredData = [] \n",
    "        with open(name,'r') as myfile: #open the file with the input path\n",
    "            data = myfile.readlines() #get all lines from txt file\n",
    "            for line in data:\n",
    "                if(line[0].isnumeric()): #in the files sent to me the only useful lines were the ones wich started\n",
    "                                         #with the number of the years, so i check that \n",
    "                    \n",
    "                    dataVector = list(map(str.strip, line.split(','))) #split the line in comas and remove the blank\n",
    "                                                                        #spaces\n",
    "                    filteredData.append(dataVector)\n",
    "                    \n",
    "        filteredData = (np.array(filteredData)).astype(np.float64) #transform the list in a np array an then trasnform\n",
    "                                                        #the strings in floats\n",
    "        \n",
    "        return filteredData   #return the data from the txt file chosen\n",
    "    \n",
    "    def compare(self,file_path): #compares a chosen file to standard one\n",
    "        compareData = self.readFile(file_path) #return the filtered data from the chosen the chosen files\n",
    "        error = self.error(compareData) #calculate the error between files \n",
    "        return error\n",
    "        \n",
    "    def error(self, comparison_array): \n",
    "        sub = np.subtract(comparison_array,self.standardData) #subtract the matrices\n",
    "        num_rows, num_cols = sub.shape #get the shape of subtraction matrix\n",
    "        errData=np.empty((0,num_rows), float) #create one empty matrix that will store in each line\n",
    "                                    #the error of one input parameter for the 25 years, in the end the format \n",
    "                                    # will be 5x25 (5 parameters and 25 years)\n",
    "        \n",
    "        i=1 #start at index 1, because index 0 is the number of each year\n",
    "        while i < num_cols: #iterate over all columns of sub matrix except the first\n",
    "            errCol = sub[:,i] #get column i from the sub matrix\n",
    "            stdCol = self.standardData[:,i] #get column i from the standard matrix\n",
    "            j = 0\n",
    "            while j < len(errCol): #iterate over all itens of the column\n",
    "                errCol[j] = errCol[j] / stdCol[j] #divide the value from the subtratcion of the matrices by the value \n",
    "                                                #in standard file, beacuse that's the way we calculate the % error\n",
    "                j+=1\n",
    "            errData = np.append(errData,np.absolute(errCol)[None,:], axis = 0)#after calculate the error from one line\n",
    "                            #it appends the absolute values to the errData matrix\n",
    "            i+=1 \n",
    "        self.errData = errData*100 #return the error times 100 because it is in % form \n",
    "        return errData*100   \n",
    "        #the value of i and j are the same for the two matrices because by definition, they have the same shape    "
   ]
  },
  {
   "cell_type": "code",
   "execution_count": 53,
   "metadata": {},
   "outputs": [],
   "source": [
    "quality = Reader('./FA_Prod_Curve_STANDARD.txt') #creating the object"
   ]
  },
  {
   "cell_type": "code",
   "execution_count": 54,
   "metadata": {},
   "outputs": [],
   "source": [
    "quality.compare('./FA_Prod_Curve_TO_BE_COMPARED.txt') #comparing to the chosen file"
   ]
  },
  {
   "cell_type": "code",
   "execution_count": 55,
   "metadata": {},
   "outputs": [],
   "source": [
    "errArray = quality.errData #getting the error array"
   ]
  },
  {
   "cell_type": "code",
   "execution_count": 56,
   "metadata": {},
   "outputs": [
    {
     "data": {
      "text/plain": [
       "array([[5.21575322e+00, 3.13695985e+00, 6.26502533e+00, 6.68601907e+00,\n",
       "        7.39229393e+00, 7.05484375e+00, 6.80398350e+00, 5.05888727e+00,\n",
       "        1.50155877e+00, 1.76823366e+00, 6.16391441e+00, 4.82565904e+00,\n",
       "        3.68817820e+00, 7.19644381e+00, 1.01327917e+01, 1.37277760e+01,\n",
       "        2.47752403e+01, 4.58490547e+00, 7.33440161e+00, 3.49601702e+01,\n",
       "        6.84263645e+01, 2.28192475e+01, 5.31667496e+01, 1.15418903e+01,\n",
       "        1.38018286e+01],\n",
       "       [5.21587749e+00, 3.34821429e+00, 6.59964286e+00, 7.34571429e+00,\n",
       "        8.27026531e+00, 8.31333188e+00, 8.41657991e+00, 6.75939483e+00,\n",
       "        3.74952082e+00, 5.96825861e-02, 2.97906366e+00, 2.90411438e+00,\n",
       "        3.10634380e+00, 4.60303435e+00, 8.97306749e+00, 1.49074021e+01,\n",
       "        2.43242692e+01, 4.36872609e+00, 1.15002478e+01, 3.26307086e+01,\n",
       "        7.72851263e+01, 2.68627466e+01, 5.65322618e+01, 1.12687192e+01,\n",
       "        1.38012525e+01],\n",
       "       [5.21582899e+00, 1.85475421e+01, 1.39692189e+01, 1.64593795e+01,\n",
       "        2.14381171e+01, 1.96389933e+01, 1.87852309e+01, 2.02823756e+01,\n",
       "        2.21408470e+01, 2.27560503e+01, 2.33633603e+01, 2.24125411e+01,\n",
       "        2.23548756e+01, 2.25544601e+01, 1.80950543e+01, 1.58041401e+01,\n",
       "        1.32075472e+01, 1.54918438e+01, 1.10062282e+01, 1.83293166e+01,\n",
       "        1.39844330e+00, 4.87411170e+00, 2.49890856e+00, 1.28909674e+01,\n",
       "        1.38018369e+01],\n",
       "       [5.21581487e+00, 3.34839650e+00, 6.59948980e+00, 7.34548105e+00,\n",
       "        8.27007097e+00, 8.31299110e+00, 8.41665294e+00, 6.75965816e+00,\n",
       "        3.74939871e+00, 6.02791484e-02, 2.97924261e+00, 2.90448656e+00,\n",
       "        3.10639339e+00, 4.60297828e+00, 8.97265528e+00, 1.49077800e+01,\n",
       "        2.43241305e+01, 4.36914410e+00, 1.15013233e+01, 3.26303352e+01,\n",
       "        7.72844743e+01, 2.68627690e+01, 5.65329515e+01, 1.12680193e+01,\n",
       "        1.38019174e+01],\n",
       "       [8.51467856e+00, 8.45685698e+00, 8.34289905e+00, 8.42102364e+00,\n",
       "        8.54332484e+00, 8.59500000e+00, 7.72346154e+00, 7.04807692e+00,\n",
       "        6.46884615e+00, 5.92115385e+00, 5.55346154e+00, 5.39153846e+00,\n",
       "        5.34923077e+00, 5.32769231e+00, 5.34423077e+00, 5.32653846e+00,\n",
       "        5.34423077e+00, 5.32653846e+00, 5.34423077e+00, 5.32653846e+00,\n",
       "        5.34423077e+00, 5.32653846e+00, 5.34423077e+00, 5.32653846e+00,\n",
       "        5.34423077e+00]])"
      ]
     },
     "execution_count": 56,
     "metadata": {},
     "output_type": "execute_result"
    }
   ],
   "source": [
    "errArray #printing the error array"
   ]
  },
  {
   "cell_type": "code",
   "execution_count": 57,
   "metadata": {},
   "outputs": [],
   "source": [
    "year25 = errArray[:,24] #getting the column that represents the year 25 errors like it was asked"
   ]
  },
  {
   "cell_type": "code",
   "execution_count": 58,
   "metadata": {},
   "outputs": [
    {
     "data": {
      "text/plain": [
       "array([13.80182863, 13.80125247, 13.80183685, 13.80191743,  5.34423077])"
      ]
     },
     "execution_count": 58,
     "metadata": {},
     "output_type": "execute_result"
    }
   ],
   "source": [
    "year25"
   ]
  },
  {
   "cell_type": "code",
   "execution_count": 59,
   "metadata": {},
   "outputs": [
    {
     "data": {
      "image/png": "[encoded data removed]",
      "text/plain": [
       "<Figure size 1008x576 with 1 Axes>"
      ]
     },
     "metadata": {
      "needs_background": "light"
     },
     "output_type": "display_data"
    }
   ],
   "source": [
    "fig = plt.figure(figsize=(14,8))\n",
    "\n",
    "x = ['Prod_Oil', 'Prod_Gas','Prod_Water','Inj_Gas','Inj_Water']\n",
    "bar = plt.bar(x, year25)\n",
    "\n",
    "axes = plt.gca()\n",
    "axes.set_ylabel('Error (%)')\n",
    "plt.suptitle('Year 25 Quality Check', y=0.91)  \n",
    "\n",
    "colors = {\n",
    "     'Prod_Oil Error = '+str(round(year25[0],2))+' %':'b', 'Prod_Gas Error = '+str(round(year25[1],2))+' %':'#134dab',\n",
    "     'Prod_Water Error = '+str(round(year25[2],2))+' %':'#195fd1','Inj_Gas Error = '+str(round(year25[3],2))+' %':'c',\n",
    "     'Inj_Water Error = '+str(round(year25[4],2))+' %':'#2b7cff'\n",
    "}         \n",
    "labels = list(colors.keys())\n",
    "handles = [plt.Rectangle((0,0),1,1, color=colors[label]) for label in labels]\n",
    "plt.legend(handles, labels)\n",
    "\n",
    "bar[0].set_color('b')\n",
    "bar[1].set_color('#134dab')\n",
    "bar[2].set_color('#195fd1')\n",
    "bar[3].set_color('c')\n",
    "bar[4].set_color('#2b7cff')\n",
    "\n",
    "plt.show() #plotting the results"
   ]
  }
 ],
 "metadata": {
  "kernelspec": {
   "display_name": "Python 3",
   "language": "python",
   "name": "python3"
  },
  "language_info": {
   "codemirror_mode": {
    "name": "ipython",
    "version": 3
   },
   "file_extension": ".py",
   "mimetype": "text/x-python",
   "name": "python",
   "nbconvert_exporter": "python",
   "pygments_lexer": "ipython3",
   "version": "3.7.6"
  }
 },
 "nbformat": 4,
 "nbformat_minor": 4
}
