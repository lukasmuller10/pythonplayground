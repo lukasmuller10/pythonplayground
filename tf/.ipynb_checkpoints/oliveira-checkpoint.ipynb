{
 "cells": [
  {
   "cell_type": "code",
   "execution_count": 1,
   "metadata": {},
   "outputs": [],
   "source": [
    "#importando as bibliotecas necessarias\n",
    "import pandas as pd\n",
    "import numpy as np #numerical python para arrays e etc\n",
    "import matplotlib.pyplot as plt #para plotar graficos"
   ]
  },
  {
   "cell_type": "code",
   "execution_count": 28,
   "metadata": {},
   "outputs": [],
   "source": [
    "data = pd.read_csv('dataxy2.csv', sep = ';',  \n",
    "                   engine = 'python') \n",
    "#criando um DataFrame pandas a partir do arquivo .csv\n",
    "#lembrando q é baseado em caminho relativo, entao o arquivo dataxy2.csv tem q estar\n",
    "#na mesma pasta que esse notebook loliveira.ipynb"
   ]
  },
  {
   "cell_type": "code",
   "execution_count": 29,
   "metadata": {},
   "outputs": [],
   "source": [
    "data = data.rename(columns={\"ï»¿x\": \"X\", \"y\": \"Y\"})\n",
    "#aqui consertei o nome da coluna X"
   ]
  },
  {
   "cell_type": "code",
   "execution_count": 30,
   "metadata": {},
   "outputs": [
    {
     "data": {
      "text/html": [
       "<div>\n",
       "<style scoped>\n",
       "    .dataframe tbody tr th:only-of-type {\n",
       "        vertical-align: middle;\n",
       "    }\n",
       "\n",
       "    .dataframe tbody tr th {\n",
       "        vertical-align: top;\n",
       "    }\n",
       "\n",
       "    .dataframe thead th {\n",
       "        text-align: right;\n",
       "    }\n",
       "</style>\n",
       "<table border=\"1\" class=\"dataframe\">\n",
       "  <thead>\n",
       "    <tr style=\"text-align: right;\">\n",
       "      <th></th>\n",
       "      <th>X</th>\n",
       "      <th>Y</th>\n",
       "    </tr>\n",
       "  </thead>\n",
       "  <tbody>\n",
       "    <tr>\n",
       "      <th>0</th>\n",
       "      <td>65097368</td>\n",
       "      <td>320481000</td>\n",
       "    </tr>\n",
       "    <tr>\n",
       "      <th>1</th>\n",
       "      <td>60885607</td>\n",
       "      <td>347038000</td>\n",
       "    </tr>\n",
       "    <tr>\n",
       "      <th>2</th>\n",
       "      <td>122625621</td>\n",
       "      <td>399333000</td>\n",
       "    </tr>\n",
       "    <tr>\n",
       "      <th>3</th>\n",
       "      <td>111218503</td>\n",
       "      <td>462372000</td>\n",
       "    </tr>\n",
       "    <tr>\n",
       "      <th>4</th>\n",
       "      <td>136585008</td>\n",
       "      <td>525920000</td>\n",
       "    </tr>\n",
       "    <tr>\n",
       "      <th>5</th>\n",
       "      <td>128304182</td>\n",
       "      <td>582458000</td>\n",
       "    </tr>\n",
       "    <tr>\n",
       "      <th>6</th>\n",
       "      <td>155096184</td>\n",
       "      <td>655355000</td>\n",
       "    </tr>\n",
       "    <tr>\n",
       "      <th>7</th>\n",
       "      <td>146905154</td>\n",
       "      <td>726339000</td>\n",
       "    </tr>\n",
       "    <tr>\n",
       "      <th>8</th>\n",
       "      <td>158601755</td>\n",
       "      <td>815620000</td>\n",
       "    </tr>\n",
       "    <tr>\n",
       "      <th>9</th>\n",
       "      <td>203717591</td>\n",
       "      <td>920491000</td>\n",
       "    </tr>\n",
       "    <tr>\n",
       "      <th>10</th>\n",
       "      <td>249101822</td>\n",
       "      <td>1057370000</td>\n",
       "    </tr>\n",
       "    <tr>\n",
       "      <th>11</th>\n",
       "      <td>249983061</td>\n",
       "      <td>1160804000</td>\n",
       "    </tr>\n",
       "    <tr>\n",
       "      <th>12</th>\n",
       "      <td>272982984</td>\n",
       "      <td>1271715000</td>\n",
       "    </tr>\n",
       "    <tr>\n",
       "      <th>13</th>\n",
       "      <td>279283823</td>\n",
       "      <td>1413277000</td>\n",
       "    </tr>\n",
       "    <tr>\n",
       "      <th>14</th>\n",
       "      <td>285127893</td>\n",
       "      <td>1508593000</td>\n",
       "    </tr>\n",
       "    <tr>\n",
       "      <th>15</th>\n",
       "      <td>252598786</td>\n",
       "      <td>1550600000</td>\n",
       "    </tr>\n",
       "    <tr>\n",
       "      <th>16</th>\n",
       "      <td>395471934</td>\n",
       "      <td>1634335000</td>\n",
       "    </tr>\n",
       "    <tr>\n",
       "      <th>17</th>\n",
       "      <td>375700612</td>\n",
       "      <td>1712773000</td>\n",
       "    </tr>\n",
       "    <tr>\n",
       "      <th>18</th>\n",
       "      <td>338953613</td>\n",
       "      <td>1789705000</td>\n",
       "    </tr>\n",
       "  </tbody>\n",
       "</table>\n",
       "</div>"
      ],
      "text/plain": [
       "            X           Y\n",
       "0    65097368   320481000\n",
       "1    60885607   347038000\n",
       "2   122625621   399333000\n",
       "3   111218503   462372000\n",
       "4   136585008   525920000\n",
       "5   128304182   582458000\n",
       "6   155096184   655355000\n",
       "7   146905154   726339000\n",
       "8   158601755   815620000\n",
       "9   203717591   920491000\n",
       "10  249101822  1057370000\n",
       "11  249983061  1160804000\n",
       "12  272982984  1271715000\n",
       "13  279283823  1413277000\n",
       "14  285127893  1508593000\n",
       "15  252598786  1550600000\n",
       "16  395471934  1634335000\n",
       "17  375700612  1712773000\n",
       "18  338953613  1789705000"
      ]
     },
     "execution_count": 30,
     "metadata": {},
     "output_type": "execute_result"
    }
   ],
   "source": [
    "data\n",
    "#printa o DataFrame\n",
    "#um outro comando seria data.head() para ver as 5 primeiras linhas"
   ]
  },
  {
   "cell_type": "code",
   "execution_count": 53,
   "metadata": {},
   "outputs": [],
   "source": [
    "X= data.X.values\n",
    "Y= data.Y.values\n",
    "#se vc fizer type(data.X), ou seja, saber de qual tipo de variavel\n",
    "# é a coluna X desse dataframe será pd.series\n",
    "#por isso eu fiz .values para criar um numpy array com cada elemento \n",
    "#pra testar isso faz um print(X)"
   ]
  },
  {
   "cell_type": "code",
   "execution_count": null,
   "metadata": {},
   "outputs": [],
   "source": [
    "#print(X)\n",
    "#print(type(X)"
   ]
  },
  {
   "cell_type": "code",
   "execution_count": 54,
   "metadata": {},
   "outputs": [],
   "source": [
    "X = X.astype(np.float)\n",
    "Y = Y.astype(np.float)\n",
    "#aqui para transformar todos os elementos de dentro do np array em floats\n",
    "#float é um umero de ponto flutuante e existem alguns tipos(so pra vc saber)\n",
    "#fiz isso pq eles foram carregados como strings do dataframe\n",
    "#string=texto\n",
    "#e pra fazer um grafico é necessario de valores numericos neh"
   ]
  },
  {
   "cell_type": "code",
   "execution_count": 55,
   "metadata": {},
   "outputs": [],
   "source": [
    "X = X.reshape(-1, 1)\n",
    "Y = Y.reshape(-1, 1)\n",
    "#fazendo um reshape num array q é 1D, ou seja, um vetor\n",
    "#bibliotecas exigem alguns tipos de inputação de dados\n",
    "#no caso da sklearn ela exige que os dados estejam em um forma de uma matriz de n linhas por 1 coluna\n",
    "#por isso o -1\n",
    "#o -1 nesse caso do numpy significa q os dados vao ficar num formato nx1 (n linhas e 1 coluna)\n",
    "#meio estranho mesmo a notação mas td bem"
   ]
  },
  {
   "cell_type": "code",
   "execution_count": 56,
   "metadata": {},
   "outputs": [
    {
     "data": {
      "text/plain": [
       "<matplotlib.collections.PathCollection at 0x1f65a7cc988>"
      ]
     },
     "execution_count": 56,
     "metadata": {},
     "output_type": "execute_result"
    },
    {
     "data": {
      "image/png": "[encoded data removed]",
      "text/plain": [
       "<Figure size 432x288 with 1 Axes>"
      ]
     },
     "metadata": {
      "needs_background": "light"
     },
     "output_type": "display_data"
    }
   ],
   "source": [
    "plt.scatter(X,Y)\n",
    "#esse é um grafico basico, o metodo scatter te da esse grafico de bolinha"
   ]
  },
  {
   "cell_type": "code",
   "execution_count": 57,
   "metadata": {},
   "outputs": [
    {
     "data": {
      "text/plain": [
       "LinearRegression()"
      ]
     },
     "execution_count": 57,
     "metadata": {},
     "output_type": "execute_result"
    }
   ],
   "source": [
    "#existem algumas bibliotecas pra se fazer regressao linear\n",
    "from sklearn.linear_model import LinearRegression\n",
    "regressor = LinearRegression() #criando um objeto de uma classe do sklearn chamado LinearRegression\n",
    "regressor.fit(X,Y) \n",
    "#aqui usando o metodo da classe LinearRegression q vai se moldar no conjunto de dados de forma linear"
   ]
  },
  {
   "cell_type": "code",
   "execution_count": null,
   "metadata": {},
   "outputs": [],
   "source": [
    "#y=ax+b"
   ]
  },
  {
   "cell_type": "code",
   "execution_count": 58,
   "metadata": {},
   "outputs": [
    {
     "data": {
      "text/plain": [
       "array([-21254067.3222841])"
      ]
     },
     "execution_count": 58,
     "metadata": {},
     "output_type": "execute_result"
    }
   ],
   "source": [
    "#b\n",
    "regressor.intercept_"
   ]
  },
  {
   "cell_type": "code",
   "execution_count": 59,
   "metadata": {},
   "outputs": [
    {
     "data": {
      "text/plain": [
       "array([[4.82879642]])"
      ]
     },
     "execution_count": 59,
     "metadata": {},
     "output_type": "execute_result"
    }
   ],
   "source": [
    "#a\n",
    "regressor.coef_"
   ]
  },
  {
   "cell_type": "code",
   "execution_count": 60,
   "metadata": {},
   "outputs": [
    {
     "data": {
      "text/plain": [
       "array([[2.93087870e+08],\n",
       "       [2.72750134e+08],\n",
       "       [5.70880092e+08],\n",
       "       [5.15797442e+08],\n",
       "       [6.38287130e+08],\n",
       "       [5.98300707e+08],\n",
       "       [7.27673831e+08],\n",
       "       [6.88121014e+08],\n",
       "       [7.44601519e+08],\n",
       "       [9.62456707e+08],\n",
       "       [1.18160792e+09],\n",
       "       [1.18586324e+09],\n",
       "       [1.29692519e+09],\n",
       "       [1.32735066e+09],\n",
       "       [1.35557048e+09],\n",
       "       [1.19849405e+09],\n",
       "       [1.88839939e+09],\n",
       "       [1.79292770e+09],\n",
       "       [1.61548393e+09]])"
      ]
     },
     "execution_count": 60,
     "metadata": {},
     "output_type": "execute_result"
    }
   ],
   "source": [
    "previsoes = regressor.predict(X)\n",
    "#'prever' os valores de Y com base numa reta dado pontos de um dominio X\n",
    "previsoes"
   ]
  },
  {
   "cell_type": "code",
   "execution_count": 70,
   "metadata": {},
   "outputs": [
    {
     "data": {
      "image/png": "[encoded data removed]",
      "text/plain": [
       "<Figure size 1440x576 with 1 Axes>"
      ]
     },
     "metadata": {
      "needs_background": "light"
     },
     "output_type": "display_data"
    }
   ],
   "source": [
    "fig = plt.figure(figsize=(20,8)) #criar uma figura aonde o grafico fica inserido e passei um tamanho 20x8\n",
    "plt.plot(X,Y,'o') #plotar x e y puros como se fossem bolinhas\n",
    "plt.plot(X,previsoes,'red') \n",
    "# aqui faço um plot de uma reta vermelha com os meus pontos de x e as minhas previsoes para cada ponto\n",
    "plt.title('Contrução Civil e PIB')\n",
    "\n",
    "axes = plt.gca()\n",
    "axes.set_ylabel('PIB anual')\n",
    "axes.set_xlabel('Valor Adicionado da Construção Civil')\n",
    "#plt.savefig('./graph.png', bbox_inches='tight') essa linha de codigo salva essa imagem na pasta q esta esse notebook\n",
    "#foi assim q eu te mandei pelo wpp"
   ]
  }
 ],
 "metadata": {
  "kernelspec": {
   "display_name": "Python 3",
   "language": "python",
   "name": "python3"
  },
  "language_info": {
   "codemirror_mode": {
    "name": "ipython",
    "version": 3
   },
   "file_extension": ".py",
   "mimetype": "text/x-python",
   "name": "python",
   "nbconvert_exporter": "python",
   "pygments_lexer": "ipython3",
   "version": "3.7.6"
  }
 },
 "nbformat": 4,
 "nbformat_minor": 4
}
