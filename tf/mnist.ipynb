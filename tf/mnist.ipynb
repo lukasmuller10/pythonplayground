{
 "cells": [
  {
   "cell_type": "code",
   "execution_count": 5,
   "metadata": {},
   "outputs": [],
   "source": [
    "from tensorflow.examples.tutorials.mnist import input_data"
   ]
  },
  {
   "cell_type": "code",
   "execution_count": 6,
   "metadata": {},
   "outputs": [
    {
     "name": "stdout",
     "output_type": "stream",
     "text": [
      "WARNING:tensorflow:From <ipython-input-6-5816e5c8e3bf>:1: read_data_sets (from tensorflow.contrib.learn.python.learn.datasets.mnist) is deprecated and will be removed in a future version.\n",
      "Instructions for updating:\n",
      "Please use alternatives such as official/mnist/dataset.py from tensorflow/models.\n",
      "WARNING:tensorflow:From C:\\Users\\lukas\\anaconda3\\lib\\site-packages\\tensorflow\\contrib\\learn\\python\\learn\\datasets\\mnist.py:260: maybe_download (from tensorflow.contrib.learn.python.learn.datasets.base) is deprecated and will be removed in a future version.\n",
      "Instructions for updating:\n",
      "Please write your own downloading logic.\n",
      "WARNING:tensorflow:From C:\\Users\\lukas\\anaconda3\\lib\\site-packages\\tensorflow\\contrib\\learn\\python\\learn\\datasets\\base.py:252: _internal_retry.<locals>.wrap.<locals>.wrapped_fn (from tensorflow.contrib.learn.python.learn.datasets.base) is deprecated and will be removed in a future version.\n",
      "Instructions for updating:\n",
      "Please use urllib or similar directly.\n",
      "Successfully downloaded train-images-idx3-ubyte.gz 9912422 bytes.\n",
      "WARNING:tensorflow:From C:\\Users\\lukas\\anaconda3\\lib\\site-packages\\tensorflow\\contrib\\learn\\python\\learn\\datasets\\mnist.py:262: extract_images (from tensorflow.contrib.learn.python.learn.datasets.mnist) is deprecated and will be removed in a future version.\n",
      "Instructions for updating:\n",
      "Please use tf.data to implement this functionality.\n",
      "Extracting mnist/train-images-idx3-ubyte.gz\n",
      "Successfully downloaded train-labels-idx1-ubyte.gz 28881 bytes.\n",
      "WARNING:tensorflow:From C:\\Users\\lukas\\anaconda3\\lib\\site-packages\\tensorflow\\contrib\\learn\\python\\learn\\datasets\\mnist.py:267: extract_labels (from tensorflow.contrib.learn.python.learn.datasets.mnist) is deprecated and will be removed in a future version.\n",
      "Instructions for updating:\n",
      "Please use tf.data to implement this functionality.\n",
      "Extracting mnist/train-labels-idx1-ubyte.gz\n",
      "WARNING:tensorflow:From C:\\Users\\lukas\\anaconda3\\lib\\site-packages\\tensorflow\\contrib\\learn\\python\\learn\\datasets\\mnist.py:110: dense_to_one_hot (from tensorflow.contrib.learn.python.learn.datasets.mnist) is deprecated and will be removed in a future version.\n",
      "Instructions for updating:\n",
      "Please use tf.one_hot on tensors.\n",
      "Successfully downloaded t10k-images-idx3-ubyte.gz 1648877 bytes.\n",
      "Extracting mnist/t10k-images-idx3-ubyte.gz\n",
      "Successfully downloaded t10k-labels-idx1-ubyte.gz 4542 bytes.\n",
      "Extracting mnist/t10k-labels-idx1-ubyte.gz\n",
      "WARNING:tensorflow:From C:\\Users\\lukas\\anaconda3\\lib\\site-packages\\tensorflow\\contrib\\learn\\python\\learn\\datasets\\mnist.py:290: DataSet.__init__ (from tensorflow.contrib.learn.python.learn.datasets.mnist) is deprecated and will be removed in a future version.\n",
      "Instructions for updating:\n",
      "Please use alternatives such as official/mnist/dataset.py from tensorflow/models.\n"
     ]
    }
   ],
   "source": [
    "mnist = input_data.read_data_sets('mnist/',one_hot=True)"
   ]
  },
  {
   "cell_type": "code",
   "execution_count": 21,
   "metadata": {},
   "outputs": [],
   "source": [
    "import numpy as np\n",
    "import tensorflow as tf"
   ]
  },
  {
   "cell_type": "code",
   "execution_count": 10,
   "metadata": {},
   "outputs": [],
   "source": [
    "X_train = mnist.train.images\n",
    "Y_train = mnist.train.labels\n",
    "X_test = mnist.test.images\n",
    "Y_test = mnist.test.labels"
   ]
  },
  {
   "cell_type": "code",
   "execution_count": 14,
   "metadata": {},
   "outputs": [
    {
     "data": {
      "text/plain": [
       "Text(0.5, 1.0, 'Numero 7')"
      ]
     },
     "execution_count": 14,
     "metadata": {},
     "output_type": "execute_result"
    },
    {
     "data": {
      "image/png": "[encoded data removed]",
      "text/plain": [
       "<Figure size 432x288 with 1 Axes>"
      ]
     },
     "metadata": {
      "needs_background": "light"
     },
     "output_type": "display_data"
    }
   ],
   "source": [
    "import matplotlib.pyplot as plt\n",
    "plt.imshow(X_train[0].reshape((28,28)))\n",
    "plt.title('Numero '+str(np.argmax(Y_train[0])))"
   ]
  },
  {
   "cell_type": "code",
   "execution_count": 15,
   "metadata": {},
   "outputs": [
    {
     "data": {
      "text/plain": [
       "(64, 784)"
      ]
     },
     "execution_count": 15,
     "metadata": {},
     "output_type": "execute_result"
    }
   ],
   "source": [
    "X_batch,Y_batch = mnist.train.next_batch(64)\n",
    "X_batch.shape"
   ]
  },
  {
   "cell_type": "code",
   "execution_count": 16,
   "metadata": {},
   "outputs": [
    {
     "data": {
      "text/plain": [
       "784"
      ]
     },
     "execution_count": 16,
     "metadata": {},
     "output_type": "execute_result"
    }
   ],
   "source": [
    "neuronios_entrada = X_train.shape[1]\n",
    "neuronios_entrada"
   ]
  },
  {
   "cell_type": "code",
   "execution_count": 18,
   "metadata": {},
   "outputs": [
    {
     "data": {
      "text/plain": [
       "397"
      ]
     },
     "execution_count": 18,
     "metadata": {},
     "output_type": "execute_result"
    }
   ],
   "source": [
    "neuronios_oculta1 = int((X_train.shape[1] + Y_train.shape[1])/2)\n",
    "neuronios_oculta1"
   ]
  },
  {
   "cell_type": "code",
   "execution_count": 19,
   "metadata": {},
   "outputs": [
    {
     "data": {
      "text/plain": [
       "10"
      ]
     },
     "execution_count": 19,
     "metadata": {},
     "output_type": "execute_result"
    }
   ],
   "source": [
    "neuronios_oculta2=neuronios_oculta1\n",
    "neuronios_oculta3=neuronios_oculta1\n",
    "neuronios_saida = Y_train.shape[1]\n",
    "neuronios_saida"
   ]
  },
  {
   "cell_type": "code",
   "execution_count": null,
   "metadata": {},
   "outputs": [],
   "source": [
    "#784->397->397->10"
   ]
  },
  {
   "cell_type": "code",
   "execution_count": 37,
   "metadata": {},
   "outputs": [],
   "source": [
    "W = {\n",
    "    'oculta1':tf.Variable(tf.random_normal([neuronios_entrada,neuronios_oculta1])),\n",
    "    'oculta2':tf.Variable(tf.random_normal([neuronios_oculta1,neuronios_oculta2])),\n",
    "    'oculta3':tf.Variable(tf.random_normal([neuronios_oculta2,neuronios_oculta3])),\n",
    "    'saida':tf.Variable(tf.random_normal([neuronios_oculta3,neuronios_saida]))\n",
    "}"
   ]
  },
  {
   "cell_type": "code",
   "execution_count": 38,
   "metadata": {},
   "outputs": [],
   "source": [
    "b = {\n",
    "    'oculta1':tf.Variable(tf.random_normal([neuronios_oculta1])),\n",
    "    'oculta2':tf.Variable(tf.random_normal([neuronios_oculta2])),\n",
    "    'oculta3':tf.Variable(tf.random_normal([neuronios_oculta3])),\n",
    "    'saida':tf.Variable(tf.random_normal([neuronios_saida]))\n",
    "}"
   ]
  },
  {
   "cell_type": "code",
   "execution_count": 33,
   "metadata": {},
   "outputs": [],
   "source": [
    "Xph = tf.placeholder('float',[None,neuronios_entrada])\n",
    "Yph = tf.placeholder('float',[None,neuronios_saida])"
   ]
  },
  {
   "cell_type": "code",
   "execution_count": 42,
   "metadata": {},
   "outputs": [],
   "source": [
    "def mlp(x,w,bias):\n",
    "    camada_oculta1 = tf.nn.relu(tf.add(tf.matmul(x, W['oculta1']),bias['oculta1']))\n",
    "    camada_oculta2 = tf.nn.relu(tf.add(tf.matmul(camada_oculta1, W['oculta2']),bias['oculta2']))\n",
    "    camada_oculta3 = tf.nn.relu(tf.add(tf.matmul(camada_oculta2, W['oculta3']),bias['oculta3']))\n",
    "    camada_saida = tf.add(tf.matmul(camada_oculta3, W['saida']),bias['saida'])\n",
    "    return camada_saida"
   ]
  },
  {
   "cell_type": "code",
   "execution_count": 47,
   "metadata": {},
   "outputs": [],
   "source": [
    "modelo = mlp(Xph,W,b)\n",
    "erro = tf.reduce_mean(tf.nn.softmax_cross_entropy_with_logits_v2(logits = modelo, labels = Yph))\n",
    "otimizador = tf.train.AdamOptimizer(learning_rate=0.0001).minimize(erro)\n",
    "init = tf.global_variables_initializer()"
   ]
  },
  {
   "cell_type": "code",
   "execution_count": 62,
   "metadata": {},
   "outputs": [],
   "source": [
    "previsoes = tf.nn.softmax(modelo)\n",
    "previsoes_corretas = tf.equal(tf.argmax(previsoes,1),tf.argmax(Yph,1))\n",
    "taxa = tf.reduce_mean(tf.cast(previsoes_corretas,tf.float32))"
   ]
  },
  {
   "cell_type": "code",
   "execution_count": 65,
   "metadata": {},
   "outputs": [
    {
     "name": "stdout",
     "output_type": "stream",
     "text": [
      "época:1 erro:33430.92 acc:0.1281\n",
      "época:101 erro:14523.161 acc:0.2119\n",
      "época:201 erro:8263.16 acc:0.3568\n",
      "época:301 erro:6984.079 acc:0.4788\n",
      "época:401 erro:4969.7314 acc:0.5622\n",
      "época:501 erro:4142.9146 acc:0.618\n",
      "época:601 erro:5232.9146 acc:0.6586\n",
      "época:701 erro:3908.4214 acc:0.6936\n",
      "época:801 erro:2432.6248 acc:0.7184\n",
      "época:901 erro:3192.191 acc:0.7401\n",
      "época:1001 erro:2081.6514 acc:0.7539\n",
      "época:1101 erro:1641.8247 acc:0.7684\n",
      "época:1201 erro:2020.7427 acc:0.7792\n",
      "época:1301 erro:1547.3091 acc:0.7896\n",
      "época:1401 erro:2458.8477 acc:0.7964\n",
      "época:1501 erro:1617.7313 acc:0.8037\n",
      "época:1601 erro:927.6482 acc:0.8126\n",
      "época:1701 erro:1661.351 acc:0.8189\n",
      "época:1801 erro:1279.4062 acc:0.8248\n",
      "época:1901 erro:1133.2694 acc:0.8289\n",
      "época:2001 erro:1177.3262 acc:0.8349\n",
      "época:2101 erro:1230.3406 acc:0.8387\n",
      "época:2201 erro:1554.1907 acc:0.8423\n",
      "época:2301 erro:1096.8097 acc:0.8474\n",
      "época:2401 erro:1325.4126 acc:0.8505\n",
      "época:2501 erro:469.52936 acc:0.8522\n",
      "época:2601 erro:1008.7912 acc:0.854\n",
      "época:2701 erro:1000.4514 acc:0.858\n",
      "época:2801 erro:544.8618 acc:0.8605\n",
      "época:2901 erro:685.10266 acc:0.8624\n",
      "época:3001 erro:839.22235 acc:0.8649\n",
      "época:3101 erro:915.35956 acc:0.8656\n",
      "época:3201 erro:1087.962 acc:0.8677\n",
      "época:3301 erro:944.1148 acc:0.8702\n",
      "época:3401 erro:862.3165 acc:0.8711\n",
      "época:3501 erro:483.71655 acc:0.8725\n",
      "época:3601 erro:546.59143 acc:0.8746\n",
      "época:3701 erro:886.848 acc:0.8766\n",
      "época:3801 erro:240.07654 acc:0.8779\n",
      "época:3901 erro:726.2403 acc:0.8782\n",
      "época:4001 erro:829.7665 acc:0.8801\n",
      "época:4101 erro:707.6802 acc:0.8823\n",
      "época:4201 erro:645.68353 acc:0.8826\n",
      "época:4301 erro:106.28496 acc:0.8839\n",
      "época:4401 erro:1073.235 acc:0.8845\n",
      "época:4501 erro:842.8816 acc:0.8865\n",
      "época:4601 erro:256.13797 acc:0.889\n",
      "época:4701 erro:353.86868 acc:0.89\n",
      "época:4801 erro:532.9822 acc:0.8921\n",
      "época:4901 erro:468.4299 acc:0.8917\n",
      "Treinamento Concluído!\n",
      "0.8932\n"
     ]
    }
   ],
   "source": [
    "with tf.Session() as sess:\n",
    "    sess.run(init)\n",
    "    for epoca in range(5000):\n",
    "        X_batch,Y_batch = mnist.train.next_batch(128)\n",
    "        _ ,custo = sess.run([otimizador,erro],feed_dict = {Xph:X_batch, Yph:Y_batch})\n",
    "        if epoca %100==0:\n",
    "            error = sess.run(taxa,feed_dict = {Xph:X_test, Yph:Y_test})\n",
    "            print('época:'+str(epoca+1)+' erro:'+str(custo)+' acc:'+str(error))\n",
    "    print('Treinamento Concluído!')   \n",
    "    print(sess.run(taxa,feed_dict = {Xph:X_test, Yph:Y_test}))"
   ]
  },
  {
   "cell_type": "code",
   "execution_count": null,
   "metadata": {},
   "outputs": [],
   "source": [
    "Y_test"
   ]
  }
 ],
 "metadata": {
  "kernelspec": {
   "display_name": "Python 3",
   "language": "python",
   "name": "python3"
  },
  "language_info": {
   "codemirror_mode": {
    "name": "ipython",
    "version": 3
   },
   "file_extension": ".py",
   "mimetype": "text/x-python",
   "name": "python",
   "nbconvert_exporter": "python",
   "pygments_lexer": "ipython3",
   "version": "3.7.6"
  }
 },
 "nbformat": 4,
 "nbformat_minor": 4
}
