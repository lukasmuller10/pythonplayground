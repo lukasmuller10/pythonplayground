{
 "cells": [
  {
   "cell_type": "code",
   "execution_count": 2,
   "metadata": {},
   "outputs": [],
   "source": [
    "import tensorflow as tf\n",
    "import numpy as np"
   ]
  },
  {
   "cell_type": "code",
   "execution_count": 3,
   "metadata": {},
   "outputs": [],
   "source": [
    "X = np.array([[0.0,0.0],\n",
    "             [0.0,1.0],\n",
    "             [1.0,0.0],\n",
    "             [1.0,1.0]])"
   ]
  },
  {
   "cell_type": "code",
   "execution_count": 4,
   "metadata": {},
   "outputs": [
    {
     "data": {
      "text/plain": [
       "array([[0., 0.],\n",
       "       [0., 1.],\n",
       "       [1., 0.],\n",
       "       [1., 1.]])"
      ]
     },
     "execution_count": 4,
     "metadata": {},
     "output_type": "execute_result"
    }
   ],
   "source": [
    "X"
   ]
  },
  {
   "cell_type": "code",
   "execution_count": 5,
   "metadata": {},
   "outputs": [
    {
     "data": {
      "text/plain": [
       "array([[0.],\n",
       "       [0.],\n",
       "       [0.],\n",
       "       [1.]])"
      ]
     },
     "execution_count": 5,
     "metadata": {},
     "output_type": "execute_result"
    }
   ],
   "source": [
    "Y=np.array([[0.0],[0.0],[0.0],[1.0]])\n",
    "Y"
   ]
  },
  {
   "cell_type": "code",
   "execution_count": 30,
   "metadata": {},
   "outputs": [],
   "source": [
    "W = tf.Variable(tf.zeros([2,1],dtype = tf.float64))"
   ]
  },
  {
   "cell_type": "code",
   "execution_count": 31,
   "metadata": {},
   "outputs": [],
   "source": [
    "init = tf.global_variables_initializer()"
   ]
  },
  {
   "cell_type": "code",
   "execution_count": 32,
   "metadata": {},
   "outputs": [],
   "source": [
    "camada_saida = tf.matmul(X,W)"
   ]
  },
  {
   "cell_type": "code",
   "execution_count": 33,
   "metadata": {},
   "outputs": [],
   "source": [
    "def step(x):\n",
    "    return tf.cast(tf.to_float(tf.math.greater_equal(x,1)),tf.float64)"
   ]
  },
  {
   "cell_type": "code",
   "execution_count": 34,
   "metadata": {},
   "outputs": [],
   "source": [
    "camada_saida_ativacao = step(camada_saida)"
   ]
  },
  {
   "cell_type": "code",
   "execution_count": 37,
   "metadata": {},
   "outputs": [],
   "source": [
    "erro = tf.subtract(Y,camada_saida_ativacao) "
   ]
  },
  {
   "cell_type": "code",
   "execution_count": 49,
   "metadata": {},
   "outputs": [],
   "source": [
    "delta = tf.matmul(tf.transpose(X),erro)\n",
    "treinamento = tf.assign(W,tf.add(W,tf.multiply(delta,0.1)))"
   ]
  },
  {
   "cell_type": "code",
   "execution_count": 52,
   "metadata": {},
   "outputs": [
    {
     "name": "stdout",
     "output_type": "stream",
     "text": [
      "[[0.]\n",
      " [0.]\n",
      " [0.]\n",
      " [1.]]\n",
      "Época: 1  Erro: 1.0\n",
      "Época: 2  Erro: 1.0\n",
      "Época: 3  Erro: 1.0\n",
      "Época: 4  Erro: 1.0\n",
      "Época: 5  Erro: 1.0\n",
      "Época: 6  Erro: 0.0\n",
      "Época: 7  Erro: 0.0\n",
      "Época: 8  Erro: 0.0\n",
      "Época: 9  Erro: 0.0\n",
      "Época: 10  Erro: 0.0\n",
      "Época: 11  Erro: 0.0\n",
      "Época: 12  Erro: 0.0\n",
      "Época: 13  Erro: 0.0\n",
      "Época: 14  Erro: 0.0\n",
      "Época: 15  Erro: 0.0\n"
     ]
    }
   ],
   "source": [
    "with tf.Session() as sess:\n",
    "    sess.run(init)\n",
    "    print(sess.run(erro))\n",
    "    epoca = 0\n",
    "    for i in range(15):\n",
    "        epoca+=1\n",
    "        erro_total, _ = sess.run([erro,treinamento])\n",
    "        erro_total = tf.reduce_sum(erro_total)\n",
    "        print('Época:',epoca, ' Erro:',sess.run(erro_total))\n",
    "    "
   ]
  },
  {
   "cell_type": "code",
   "execution_count": null,
   "metadata": {},
   "outputs": [],
   "source": []
  }
 ],
 "metadata": {
  "kernelspec": {
   "display_name": "Python 3",
   "language": "python",
   "name": "python3"
  },
  "language_info": {
   "codemirror_mode": {
    "name": "ipython",
    "version": 3
   },
   "file_extension": ".py",
   "mimetype": "text/x-python",
   "name": "python",
   "nbconvert_exporter": "python",
   "pygments_lexer": "ipython3",
   "version": "3.7.6"
  }
 },
 "nbformat": 4,
 "nbformat_minor": 4
}
