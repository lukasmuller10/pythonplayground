{
 "cells": [
  {
   "cell_type": "code",
   "execution_count": 1,
   "metadata": {},
   "outputs": [],
   "source": [
    "import sqlite3"
   ]
  },
  {
   "cell_type": "code",
   "execution_count": 2,
   "metadata": {},
   "outputs": [],
   "source": [
    "conn = sqlite3.connect('customer.db')"
   ]
  },
  {
   "cell_type": "code",
   "execution_count": 42,
   "metadata": {},
   "outputs": [],
   "source": [
    "#create cursor\n",
    "c = conn.cursor()\n",
    "\n",
    "#create table\n",
    "c.execute(\"\"\" CREATE TABLE costumers(\n",
    "    first_name text,\n",
    "    last_name text,\n",
    "    email text\n",
    "    )\"\"\")\n",
    "\n",
    "#NULL INTEGER REAL TEXT BLOB\n",
    "\n",
    "#commit our command\n",
    "conn.commit()\n",
    "\n",
    "#close connection\n",
    "conn.close()"
   ]
  },
  {
   "cell_type": "code",
   "execution_count": 47,
   "metadata": {},
   "outputs": [
    {
     "name": "stdout",
     "output_type": "stream",
     "text": [
      "Commnad executed succesfully\n"
     ]
    }
   ],
   "source": [
    "conn = sqlite3.connect('customer.db')\n",
    "\n",
    "#create cursor\n",
    "c = conn.cursor()\n",
    "\n",
    "c.execute(\"INSERT INTO costumers VALUES('Francisco','Jose','fpinheir@gmail.com')\")\n",
    "\n",
    "print('Commnad executed succesfully')\n",
    "#commit our command\n",
    "conn.commit()\n",
    "\n",
    "#close connection\n",
    "conn.close()"
   ]
  },
  {
   "cell_type": "code",
   "execution_count": 48,
   "metadata": {},
   "outputs": [
    {
     "name": "stdout",
     "output_type": "stream",
     "text": [
      "Command executed succesfully\n"
     ]
    }
   ],
   "source": [
    "conn = sqlite3.connect('customer.db')\n",
    "\n",
    "#create cursor\n",
    "c = conn.cursor()\n",
    "\n",
    "many_costumers = [('Wes','Brown','wes@brown.com'),\n",
    "                 ('Steph','Kuewa','steph@kuewa.com'),\n",
    "                 ('Dan','Pas','dan@pas.com'),\n",
    "                ]\n",
    "\n",
    "c.executemany(\"INSERT INTO costumers VALUES (?,?,?)\", many_costumers)\n",
    "\n",
    "print('Command executed succesfully')\n",
    "#commit our command\n",
    "conn.commit()\n",
    "\n",
    "#close connection\n",
    "conn.close()"
   ]
  },
  {
   "cell_type": "code",
   "execution_count": 49,
   "metadata": {},
   "outputs": [
    {
     "name": "stdout",
     "output_type": "stream",
     "text": [
      "[('John', 'Elder', 'john@codemy.com'), ('Gabriel', 'Muller', 'gabriel@codemy.com'), ('Lukas', 'Muller', 'lukasmullerdeoliveira@codemy.com'), ('Ingrid', 'Muller', 'dida_muller@hotmail.com'), ('Francisco', 'Jose', 'fpinheir@gmail.com'), ('Wes', 'Brown', 'wes@brown.com'), ('Steph', 'Kuewa', 'steph@kuewa.com'), ('Dan', 'Pas', 'dan@pas.com')]\n"
     ]
    }
   ],
   "source": [
    "conn = sqlite3.connect('customer.db')\n",
    "\n",
    "#create cursor\n",
    "c = conn.cursor()\n",
    "\n",
    "#query the database\n",
    "c.execute(\"SELECT * FROM costumers\")\n",
    "\n",
    "#print(c.fetchone())\n",
    "\n",
    "#print(c.fetchmany(3))\n",
    "\n",
    "print(c.fetchall())\n",
    "\n",
    "#commit our command\n",
    "conn.commit()\n",
    "\n",
    "#close connection\n",
    "conn.close()"
   ]
  },
  {
   "cell_type": "code",
   "execution_count": 20,
   "metadata": {},
   "outputs": [
    {
     "name": "stdout",
     "output_type": "stream",
     "text": [
      "John\n",
      "Tim\n",
      "Mary\n",
      "Wes\n",
      "Steph\n",
      "Dan\n"
     ]
    }
   ],
   "source": [
    "conn = sqlite3.connect('customer.db')\n",
    "\n",
    "#create cursor\n",
    "c = conn.cursor()\n",
    "\n",
    "#query the database\n",
    "c.execute(\"SELECT * FROM costumers\")\n",
    "\n",
    "#print(c.fetchone())\n",
    "\n",
    "#print(c.fetchmany(3))\n",
    "\n",
    "items = c.fetchall()\n",
    "\n",
    "for item in items:\n",
    "    print(item[0])\n",
    "\n",
    "#commit our command\n",
    "conn.commit()\n",
    "\n",
    "#close connection\n",
    "conn.close()"
   ]
  },
  {
   "cell_type": "code",
   "execution_count": 24,
   "metadata": {},
   "outputs": [
    {
     "name": "stdout",
     "output_type": "stream",
     "text": [
      "(1, 'John', 'Elder', 'john@codemy.com')\n",
      "(2, 'Tim', 'Smith', 'tim@codemy.com')\n",
      "(3, 'Mary', 'Brown', 'mary@codemy.com')\n",
      "(4, 'Wes', 'Brown', 'wes@brown.com')\n",
      "(5, 'Steph', 'Kuewa', 'steph@kuewa.com')\n",
      "(6, 'Dan', 'Pas', 'dan@pas.com')\n"
     ]
    }
   ],
   "source": [
    "conn = sqlite3.connect('customer.db')\n",
    "\n",
    "#create cursor\n",
    "c = conn.cursor()\n",
    "\n",
    "#query the database\n",
    "c.execute(\"SELECT rowid, * FROM costumers\")\n",
    "\n",
    "#print(c.fetchone())\n",
    "\n",
    "#print(c.fetchmany(3))\n",
    "\n",
    "items = c.fetchall()\n",
    "\n",
    "for item in items:\n",
    "    print(item)\n",
    "\n",
    "#commit our command\n",
    "conn.commit()\n",
    "\n",
    "#close connection\n",
    "conn.close()"
   ]
  },
  {
   "cell_type": "code",
   "execution_count": 27,
   "metadata": {},
   "outputs": [
    {
     "name": "stdout",
     "output_type": "stream",
     "text": [
      "('John', 'Elder', 'john@codemy.com')\n",
      "('Tim', 'Smith', 'tim@codemy.com')\n",
      "('Mary', 'Brown', 'mary@codemy.com')\n"
     ]
    }
   ],
   "source": [
    "conn = sqlite3.connect('customer.db')\n",
    "\n",
    "#create cursor\n",
    "c = conn.cursor()\n",
    "\n",
    "#query the database\n",
    "c.execute(\"SELECT  * FROM costumers WHERE EMAIL LIKE '%codemy%'\")\n",
    "\n",
    "\n",
    "items = c.fetchall()\n",
    "\n",
    "for item in items:\n",
    "    print(item)\n",
    "\n",
    "#commit our command\n",
    "conn.commit()\n",
    "\n",
    "#close connection\n",
    "conn.close()"
   ]
  },
  {
   "cell_type": "code",
   "execution_count": 33,
   "metadata": {},
   "outputs": [
    {
     "name": "stdout",
     "output_type": "stream",
     "text": [
      "(1, 'John', 'Elder', 'john@codemy.com')\n",
      "(2, 'Tim', 'Smith', 'tim@codemy.com')\n",
      "(3, 'Mary', 'Brown', 'mary@codemy.com')\n",
      "(4, 'Wes', 'Brown', 'wes@brown.com')\n",
      "(5, 'Steph', 'Kuewa', 'steph@kuewa.com')\n",
      "(6, 'Dan', 'Pas', 'dan@pas.com')\n"
     ]
    }
   ],
   "source": [
    "conn = sqlite3.connect('customer.db')\n",
    "\n",
    "#create cursor\n",
    "c = conn.cursor()\n",
    "\n",
    "#query the database\n",
    "c.execute(\"\"\" UPDATE costumers SET first_name = 'Mary'\n",
    "            WHERE rowid = 3\n",
    "    \"\"\")\n",
    "\n",
    "#commit our command\n",
    "conn.commit()\n",
    "\n",
    "c.execute(\"SELECT rowid, * FROM costumers\")\n",
    "\n",
    "items = c.fetchall()\n",
    "\n",
    "for item in items:\n",
    "    print(item)\n",
    "\n",
    "#commit our command\n",
    "conn.commit()\n",
    "\n",
    "#close connection\n",
    "conn.close()"
   ]
  },
  {
   "cell_type": "code",
   "execution_count": 34,
   "metadata": {},
   "outputs": [
    {
     "name": "stdout",
     "output_type": "stream",
     "text": [
      "(1, 'John', 'Elder', 'john@codemy.com')\n",
      "(2, 'Tim', 'Smith', 'tim@codemy.com')\n",
      "(3, 'Mary', 'Brown', 'mary@codemy.com')\n",
      "(4, 'Wes', 'Brown', 'wes@brown.com')\n",
      "(5, 'Steph', 'Kuewa', 'steph@kuewa.com')\n"
     ]
    }
   ],
   "source": [
    "conn = sqlite3.connect('customer.db')\n",
    "\n",
    "#create cursor\n",
    "c = conn.cursor()\n",
    "\n",
    "#query the database\n",
    "c.execute(\"\"\" DELETE from costumers WHERE rowid = 6\n",
    "    \"\"\")\n",
    "\n",
    "#commit our command\n",
    "conn.commit()\n",
    "\n",
    "c.execute(\"SELECT rowid, * FROM costumers\")\n",
    "\n",
    "items = c.fetchall()\n",
    "\n",
    "for item in items:\n",
    "    print(item)\n",
    "\n",
    "#commit our command\n",
    "conn.commit()\n",
    "\n",
    "#close connection\n",
    "conn.close()"
   ]
  },
  {
   "cell_type": "code",
   "execution_count": 38,
   "metadata": {},
   "outputs": [
    {
     "name": "stdout",
     "output_type": "stream",
     "text": [
      "(2, 'Tim', 'Smith', 'tim@codemy.com')\n",
      "(5, 'Steph', 'Kuewa', 'steph@kuewa.com')\n",
      "(1, 'John', 'Elder', 'john@codemy.com')\n",
      "(3, 'Mary', 'Brown', 'mary@codemy.com')\n",
      "(4, 'Wes', 'Brown', 'wes@brown.com')\n"
     ]
    }
   ],
   "source": [
    "conn = sqlite3.connect('customer.db')\n",
    "\n",
    "#create cursor\n",
    "c = conn.cursor()\n",
    "\n",
    "#order\n",
    "#c.execute(\"SELECT rowid, * FROM costumers ORDER BY rowid DESC\")#ASC\n",
    "c.execute(\"SELECT rowid, * FROM costumers ORDER BY last_name DESC\")\n",
    "items = c.fetchall()\n",
    "\n",
    "for item in items:\n",
    "    print(item)\n",
    "\n",
    "#commit our command\n",
    "conn.commit()\n",
    "\n",
    "#close connection\n",
    "conn.close()"
   ]
  },
  {
   "cell_type": "code",
   "execution_count": 39,
   "metadata": {},
   "outputs": [
    {
     "name": "stdout",
     "output_type": "stream",
     "text": [
      "(3, 'Mary', 'Brown', 'mary@codemy.com')\n"
     ]
    }
   ],
   "source": [
    "conn = sqlite3.connect('customer.db')\n",
    "\n",
    "#create cursor\n",
    "c = conn.cursor()\n",
    "\n",
    "#order\n",
    "c.execute(\"SELECT rowid, * FROM costumers WHERE last_name LIKE 'Br%' AND first_name LIKE 'Ma%'\")\n",
    "items = c.fetchall()\n",
    "\n",
    "for item in items:\n",
    "    print(item)\n",
    "\n",
    "#commit our command\n",
    "conn.commit()\n",
    "\n",
    "#close connection\n",
    "conn.close()"
   ]
  },
  {
   "cell_type": "code",
   "execution_count": 41,
   "metadata": {},
   "outputs": [
    {
     "ename": "OperationalError",
     "evalue": "no such table: costumers",
     "output_type": "error",
     "traceback": [
      "\u001b[1;31m---------------------------------------------------------------------------\u001b[0m",
      "\u001b[1;31mOperationalError\u001b[0m                          Traceback (most recent call last)",
      "\u001b[1;32m<ipython-input-41-137d8d71911f>\u001b[0m in \u001b[0;36m<module>\u001b[1;34m\u001b[0m\n\u001b[0;32m      5\u001b[0m \u001b[1;33m\u001b[0m\u001b[0m\n\u001b[0;32m      6\u001b[0m \u001b[1;31m#drop table\u001b[0m\u001b[1;33m\u001b[0m\u001b[1;33m\u001b[0m\u001b[1;33m\u001b[0m\u001b[0m\n\u001b[1;32m----> 7\u001b[1;33m \u001b[0mc\u001b[0m\u001b[1;33m.\u001b[0m\u001b[0mexecute\u001b[0m\u001b[1;33m(\u001b[0m\u001b[1;34m\"DROP TABLE costumers\"\u001b[0m\u001b[1;33m)\u001b[0m\u001b[1;33m\u001b[0m\u001b[1;33m\u001b[0m\u001b[0m\n\u001b[0m\u001b[0;32m      8\u001b[0m \u001b[0mconn\u001b[0m\u001b[1;33m.\u001b[0m\u001b[0mcommit\u001b[0m\u001b[1;33m(\u001b[0m\u001b[1;33m)\u001b[0m\u001b[1;33m\u001b[0m\u001b[1;33m\u001b[0m\u001b[0m\n\u001b[0;32m      9\u001b[0m \u001b[1;33m\u001b[0m\u001b[0m\n",
      "\u001b[1;31mOperationalError\u001b[0m: no such table: costumers"
     ]
    }
   ],
   "source": [
    "conn = sqlite3.connect('customer.db')\n",
    "\n",
    "#create cursor\n",
    "c = conn.cursor()\n",
    "\n",
    "#drop table\n",
    "c.execute(\"DROP TABLE costumers\")\n",
    "conn.commit()\n",
    "\n",
    "c.execute(\"SELECT rowid, * FROM costumers WHERE last_name LIKE 'Br%' AND first_name LIKE 'Ma%'\")\n",
    "items = c.fetchall()\n",
    "\n",
    "for item in items:\n",
    "    print(item)\n",
    "\n",
    "#commit our command\n",
    "conn.commit()\n",
    "\n",
    "#close connection\n",
    "conn.close()"
   ]
  },
  {
   "cell_type": "code",
   "execution_count": null,
   "metadata": {},
   "outputs": [],
   "source": []
  }
 ],
 "metadata": {
  "kernelspec": {
   "display_name": "Python 3",
   "language": "python",
   "name": "python3"
  },
  "language_info": {
   "codemirror_mode": {
    "name": "ipython",
    "version": 3
   },
   "file_extension": ".py",
   "mimetype": "text/x-python",
   "name": "python",
   "nbconvert_exporter": "python",
   "pygments_lexer": "ipython3",
   "version": "3.7.6"
  }
 },
 "nbformat": 4,
 "nbformat_minor": 4
}
