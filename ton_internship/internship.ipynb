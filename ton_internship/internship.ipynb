{
 "cells": [
  {
   "cell_type": "code",
   "execution_count": 4,
   "metadata": {},
   "outputs": [],
   "source": [
    "import csv, sqlite3, unicodedata, unidecode, datetime #vou usar o sqlite3 para a análise\n",
    "import numpy as np\n",
    "import matplotlib.pyplot as plt"
   ]
  },
  {
   "cell_type": "code",
   "execution_count": 6,
   "metadata": {},
   "outputs": [],
   "source": [
    "from tools import utils"
   ]
  },
  {
   "cell_type": "code",
   "execution_count": 7,
   "metadata": {},
   "outputs": [],
   "source": [
    "utils = utils() #criando objeto da classe utils"
   ]
  },
  {
   "cell_type": "markdown",
   "metadata": {},
   "source": [
    "O primeiro passo é criar um banco de dados e uma table para cada um dos arquivos .csv disponibilizados"
   ]
  },
  {
   "cell_type": "code",
   "execution_count": 78,
   "metadata": {},
   "outputs": [],
   "source": [
    "conn = sqlite3.connect(\"ton.db\") #criando um db\n",
    "c = conn.cursor()\n",
    "\n",
    "c.execute(\"\"\"CREATE TABLE cases \n",
    "            (accountid,\n",
    "            date_ref,\n",
    "            channelid,\n",
    "            waitingtime,\n",
    "            missed,\n",
    "            pesquisa_de_satisfa_o__c,\n",
    "            assunto,\n",
    "            Id\n",
    "            )\"\"\") #criando a table cases\n",
    "\n",
    "with open('cases.csv','r') as fin: # para preencher a table vou utilzar o arquivo cases.csv\n",
    "    # csv.DictReader usa a primeira linha do arquivo como titulo para as colunas\n",
    "    dr = csv.DictReader(fin) # a virgula é o delimitador por default\n",
    "    to_db = []\n",
    "    for row in dr:\n",
    "        if row['accountid'] !='': #o arquivo .csv apresenta linhas vazias, entao filtro isso aqui\n",
    "            processed_row = utils.processing(row, 'cases')#uso a função processing da classe utils\n",
    "            to_db.append(processed_row)\n",
    "\n",
    "c.executemany(\"INSERT INTO cases VALUES (?, ?, ?, ?, ?, ?, ?, ?);\", to_db) #pronto\n",
    "conn.commit()\n",
    "conn.close()            "
   ]
  },
  {
   "cell_type": "code",
   "execution_count": 28,
   "metadata": {},
   "outputs": [],
   "source": [
    "conn = sqlite3.connect(\"ton.db\")\n",
    "c = conn.cursor()\n",
    "\n",
    "c.execute(\"\"\"CREATE TABLE creds\n",
    "            (cred_date,\n",
    "            shipping_address_city,\n",
    "            shipping_address_state,\n",
    "            max_machine,\n",
    "            accountid\n",
    "            )\"\"\") #criando a table creds\n",
    "\n",
    "with open('creds.csv','r', encoding='utf-8') as fin: \n",
    "    dr = csv.DictReader(fin) # comma is default delimiter\n",
    "    to_db = []\n",
    "    for row in dr:\n",
    "        if row['accountid'] != '': #linhas de chamados que não aprensentam o campo accountid foram filtradas\n",
    "            processed_row = processing(row, 'creds')\n",
    "            to_db.append(processed_row)\n",
    "\n",
    "c.executemany(\"INSERT INTO creds VALUES (?, ?, ?, ?, ?);\", to_db)\n",
    "\n",
    "conn.commit()\n",
    "conn.close()  "
   ]
  },
  {
   "cell_type": "markdown",
   "metadata": {},
   "source": [
    "Para a questão 1 devemos calcular o numero de chamados que tiveram como assunto o Produto, e também irei contar o número de clientes credenciados ao longo do tempo"
   ]
  },
  {
   "cell_type": "code",
   "execution_count": 26,
   "metadata": {},
   "outputs": [],
   "source": [
    "conn = sqlite3.connect('ton.db')\n",
    "\n",
    "#create cursor\n",
    "c = conn.cursor()\n",
    "\n",
    "#query the database\n",
    "c.execute(\"SELECT date_ref FROM cases WHERE assunto LIKE 'Produto%' ORDER BY date_ref ASC\") \n",
    "#faço um query com as datas dos chamados que tem como assunto o produto\n",
    "\n",
    "chamados = np.array(c.fetchall())\n",
    "\n",
    "c.execute(\"SELECT cred_date FROM creds ORDER BY cred_date ASC\")\n",
    "#faço um query com as datas que clientes foram credenciados\n",
    "\n",
    "empresas = np.array(c.fetchall())\n",
    "\n",
    "#close connection\n",
    "conn.close()"
   ]
  },
  {
   "cell_type": "code",
   "execution_count": 38,
   "metadata": {},
   "outputs": [],
   "source": [
    "month_calls = count(utils.transform_array(chamados))\n",
    "month_cred = count(utils.transform_array(empresas))#transformo as strings para o formato datetime"
   ]
  },
  {
   "cell_type": "markdown",
   "metadata": {},
   "source": [
    "Acredito que as função abaixo não se encaixariam na classe utils para melhorar a visualização do raciocínio"
   ]
  },
  {
   "cell_type": "code",
   "execution_count": 35,
   "metadata": {},
   "outputs": [],
   "source": [
    "def count(array):\n",
    "    month_count=[[],[],[],[],[],[],[],[],[],[]] #os meses contabilzados vão de [fevereiro - Setembro]\n",
    "    \n",
    "    for date in array:\n",
    "        month = date[0].month\n",
    "        year = date[0].year\n",
    "        \n",
    "        if(year ==2019 or month == 1): #para os casos dos clientes credenciados, temos datas do ano de 2019\n",
    "        #enquanto os chamados começam a partir de fevereiro de 2020, por isso no mes de fevereiro será contabilizado\n",
    "        #a quantidade de clientes credenciados no intervalo (-inf - fevereiro]\n",
    "            month_count[0].append(date)\n",
    "        else:\n",
    "            month_count[month - 2].append(date) #aqui é para os casos dentro do intevalo [fevereiro - Setembro]\n",
    "    \n",
    "    return month_count"
   ]
  },
  {
   "cell_type": "code",
   "execution_count": 77,
   "metadata": {},
   "outputs": [],
   "source": [
    "def accumulated(array,num): #calcula a soma de elementos de um array com base num range\n",
    "    #exemplo: se num 2, o output sera a soma dos primeiros 2 termos do array\n",
    "    accumulated=0\n",
    "    for number in range(0,num):\n",
    "        accumulated += len(array[number])\n",
    "        \n",
    "    return accumulated #na pratica tera o output do numero de clientes acumulado ao longo dos meses"
   ]
  },
  {
   "cell_type": "markdown",
   "metadata": {},
   "source": [
    "Com as funções prontas, vamos plotar um gráfico que irá mostrar o número de chamados com assunto de produtos e também com o número acumulado de clientes ao longo do tempo."
   ]
  },
  {
   "cell_type": "code",
   "execution_count": 78,
   "metadata": {},
   "outputs": [
    {
     "data": {
      "image/png": "[encoded data removed]",
      "text/plain": [
       "<Figure size 720x576 with 1 Axes>"
      ]
     },
     "metadata": {
      "needs_background": "light"
     },
     "output_type": "display_data"
    }
   ],
   "source": [
    "fig = plt.figure(figsize=(10,8))\n",
    "\n",
    "barWidth = 0.4\n",
    " \n",
    "# set height of bar\n",
    "bars1 = [len(month_calls[0]), len(month_calls[1]), len(month_calls[2]), len(month_calls[3]), len(month_calls[4]),\n",
    "        len(month_calls[5]),len(month_calls[6]),len(month_calls[7])]#chamados \n",
    "bars2 = [accumulated(month_cred,1), accumulated(month_cred,2), accumulated(month_cred,3), accumulated(month_cred,4)\n",
    "         ,accumulated(month_cred,5),accumulated(month_cred,6),accumulated(month_cred,7),accumulated(month_cred,8)]\n",
    "#numero de clientes acumulados\n",
    "\n",
    "r1 = np.arange(len(bars1))\n",
    "r2 = [x + barWidth for x in r1]\n",
    "\n",
    "plt.bar(r1, bars1, color='#7f6d5f', width=barWidth, edgecolor='white', label='Nº de chamados')\n",
    "plt.bar(r2, bars2, color='#557f2d', width=barWidth, edgecolor='white', label='Nº de clientes credenciados')\n",
    "\n",
    "plt.xlabel('group', fontweight='bold')\n",
    "plt.xticks([r + barWidth for r in range(len(bars1))], ['Fev', 'Mar', 'Abr', 'Maio', 'Jun','Jul','Ago','Set'])\n",
    "\n",
    "plt.legend()\n",
    "plt.show()"
   ]
  },
  {
   "cell_type": "markdown",
   "metadata": {},
   "source": [
    "Realizando a análise, em números absolutos o numero de chamados com o assunto sobre produtos diminui levemente no mês de Agosto em relação a Julho e no mês de Setembro volta a subir novamente como podemos ver no gráfico e a seguir"
   ]
  },
  {
   "cell_type": "code",
   "execution_count": 88,
   "metadata": {},
   "outputs": [
    {
     "name": "stdout",
     "output_type": "stream",
     "text": [
      "Razão do numero de chamados em Agosto em relação aos de Julho: 0.9271750805585393\n",
      "\n",
      "Razão do numero de chamados em Setembro em relação aos de Julho: 1.0337271750805586\n",
      "\n"
     ]
    }
   ],
   "source": [
    "print('Razão do numero de chamados em Agosto em relação aos de Julho: ' + str(bars1[-2]/bars1[-3])+'\\n')\n",
    "print('Razão do numero de chamados em Setembro em relação aos de Julho: ' + str(bars1[-1]/bars1[-3])+'\\n')"
   ]
  },
  {
   "cell_type": "markdown",
   "metadata": {},
   "source": [
    "O objetivo de diminuir os numeros absolutos de chamados sobre o produto foi atingido no primeiro mês e logo depois volta a subir. Porém também devemos perceber que o número de clientes credenciados acumulados aumenta de forma bem acentuada com o passar dos meses, o que também deve ser levado em conta!<br>\n",
    "Por isso, uma estimativa foi feita da taxa de chamados ralizados por produto e o numero de clientes acumulados mensais. Os resultados são mostrados abaixo."
   ]
  },
  {
   "cell_type": "code",
   "execution_count": 85,
   "metadata": {},
   "outputs": [
    {
     "data": {
      "image/png": "[encoded data removed]",
      "text/plain": [
       "<Figure size 720x576 with 1 Axes>"
      ]
     },
     "metadata": {
      "needs_background": "light"
     },
     "output_type": "display_data"
    }
   ],
   "source": [
    "fig = plt.figure(figsize=(10,8))\n",
    "rate = [bars1[0]/bars2[0], bars1[1]/bars2[1],bars1[2]/bars2[2],bars1[3]/bars2[3],\n",
    "               bars1[4]/bars2[4], bars1[5]/bars2[5],bars1[6]/bars2[6],bars1[7]/bars2[7]]\n",
    "bar = plt.bar(x = ['Fev', 'Mar', 'Abr', 'Maio', 'Jun','Jul','Ago','Set'],\n",
    "     height = rate, width=0.8, bottom=None,align='center', data=None)\n",
    "\n",
    "axes = plt.gca()\n",
    "axes.set_ylabel('Nº de chamados / Nº clientes credenciados')\n",
    "axes.set_xlabel('Meses')\n",
    "plt.suptitle('Estimativa de numeros de chamados por cliente realizadas ao mês', y=0.91)       \n",
    "\n",
    "plt.show()"
   ]
  },
  {
   "cell_type": "markdown",
   "metadata": {},
   "source": [
    "Apesar do estimador apresentar erros, pois o numero de clientes aumenta diariamente e não mensalmente de uma vez só, podemos estiamar o comportamento do numero de chamados por cliente ao longo do tempo.<br>\n",
    "Com isso, podemos perceber uma queda bem acentuada após o pico em Julho, que se estabiliza um pouco em Setembro.<br>\n",
    "Podemos ver que a funcionalidade nova no site cumpriu seu papel!"
   ]
  },
  {
   "cell_type": "code",
   "execution_count": 89,
   "metadata": {},
   "outputs": [
    {
     "name": "stdout",
     "output_type": "stream",
     "text": [
      "Razão entre a estimativa de chamados por cliente em Agosto em relação a Julho: 0.7297245444348179\n",
      "\n",
      "Razão entre a estimativa de chamados por cliente em Setembro em relação a Julho:0.686403983195881\n",
      "\n"
     ]
    }
   ],
   "source": [
    "print('Razão entre a estimativa de chamados por cliente em Agosto em relação a Julho: ' + str(rate[-2]/rate[-3])+'\\n')\n",
    "print('Razão entre a estimativa de chamados por cliente em Setembro em relação a Julho:' + str(rate[-1]/rate[-3])+'\\n')"
   ]
  },
  {
   "cell_type": "markdown",
   "metadata": {},
   "source": [
    "Para a questão dois, a minha primeira ideia foi trazer um histograma de chamados de clientes mais recentes logo após seu credenciamento e comparar com o de mais antigos. Porém os histogramas apresentariam valores diferente, tendo em vista que o numero de clientes é diretamente com o numero de chamados.<br>\n",
    "\n",
    "Com isso resolvi comparar os valores médios de chamadas de clientes logo após o credenciamento divido pelo numero de clientes que realizaram chamadas nesse período."
   ]
  },
  {
   "cell_type": "code",
   "execution_count": 8,
   "metadata": {},
   "outputs": [],
   "source": [
    "conn = sqlite3.connect('ton.db')\n",
    "\n",
    "#create cursor\n",
    "c = conn.cursor()\n",
    "\n",
    "#query the database\n",
    "c.execute(\"\"\"SELECT creds.accountid FROM creds WHERE cred_date >= '2020-09-30'\"\"\")\n",
    "#query de clientes mais recentes\n",
    "\n",
    "new_clients = c.fetchall() \n",
    "\n",
    "c.execute(\"\"\"SELECT creds.accountid FROM creds WHERE cred_date < '2020-06-30'\"\"\")\n",
    "#query de clientes mais antigos\n",
    "\n",
    "older_clients = c.fetchall()\n",
    "\n",
    "c.execute(\"\"\"SELECT creds.accountid FROM creds\"\"\")\n",
    "#query de todos os clientes\n",
    "\n",
    "clients = c.fetchall()\n",
    "\n",
    "#commit our command\n",
    "conn.commit()\n",
    "\n",
    "#close connection\n",
    "conn.close()"
   ]
  },
  {
   "cell_type": "code",
   "execution_count": 10,
   "metadata": {},
   "outputs": [],
   "source": [
    "def query_interval(array,key): #função que realiza um query e retorna\n",
    "\n",
    "    conn = sqlite3.connect('ton.db')\n",
    "\n",
    "    #create cursor\n",
    "    c = conn.cursor()\n",
    "\n",
    "    sum_gap = np.array([0, 0, 0, 0])\n",
    "\n",
    "    client = 0\n",
    "\n",
    "    for id in array:\n",
    "\n",
    "        #query the database\n",
    "        c.execute(\"\"\"SELECT creds.cred_date, cases.date_ref  \n",
    "                    FROM cases, creds on cases.accountid = creds.accountid \n",
    "                    WHERE cases.accountid=(?) \"\"\", id)#uma query para cada id retornando um array com as datas\n",
    "        # de credenciamento e de chamadas \n",
    "\n",
    "        join_query = c.fetchall()\n",
    "        client_calls = np.array(utils.client_calls(join_query, key)) #explicação da função no arquivo utils \n",
    "\n",
    "        sum_gap += client_calls\n",
    "        client += 1\n",
    "\n",
    "\n",
    "    #commit our command\n",
    "    conn.commit()\n",
    "\n",
    "    #close connection\n",
    "    conn.close()\n",
    "    \n",
    "    return sum_gap, client"
   ]
  },
  {
   "cell_type": "code",
   "execution_count": 192,
   "metadata": {},
   "outputs": [
    {
     "name": "stdout",
     "output_type": "stream",
     "text": [
      "[ 9226  5104 10345 21778] 6453\n"
     ]
    }
   ],
   "source": [
    "sum_gap_new, new_client = query_interval(new_clients,'short') \n",
    "print(sum_gap_new,new_client) #explicação da função no arquivo utils"
   ]
  },
  {
   "cell_type": "markdown",
   "metadata": {},
   "source": [
    "Gráfico clientes mais recentes"
   ]
  },
  {
   "cell_type": "code",
   "execution_count": 198,
   "metadata": {},
   "outputs": [
    {
     "data": {
      "image/png": "[encoded data removed]",
      "text/plain": [
       "<Figure size 720x576 with 1 Axes>"
      ]
     },
     "metadata": {
      "needs_background": "light"
     },
     "output_type": "display_data"
    }
   ],
   "source": [
    "fig = plt.figure(figsize=(10,8))\n",
    "bar = plt.bar(x = ['0-2', '2-4','4-7','7-14'],\n",
    "     height = [sum_gap_new[0]/new_client, sum_gap_new[1]/new_client,\n",
    "               sum_gap_new[2]/new_client, sum_gap_new[3]/new_client], \n",
    "     width=0.8, bottom=None,align='center', data=None)\n",
    "\n",
    "axes = plt.gca()\n",
    "axes.set_ylabel('Nº de chamadas')\n",
    "axes.set_xlabel('Intervalo de dias')\n",
    "plt.suptitle('Número médio de chamados após credenciamento', y=0.91)       \n",
    "\n",
    "plt.show()"
   ]
  },
  {
   "cell_type": "code",
   "execution_count": 196,
   "metadata": {},
   "outputs": [
    {
     "name": "stdout",
     "output_type": "stream",
     "text": [
      "[ 39896  33700  52878 143777] 31970\n"
     ]
    }
   ],
   "source": [
    "sum_gap_older, older_client = query_interval(older_clients,'short')\n",
    "print(sum_gap_older, older_client)"
   ]
  },
  {
   "cell_type": "markdown",
   "metadata": {},
   "source": [
    "Clientes mais antigos"
   ]
  },
  {
   "cell_type": "code",
   "execution_count": 197,
   "metadata": {},
   "outputs": [
    {
     "data": {
      "image/png": "[encoded data removed]",
      "text/plain": [
       "<Figure size 720x576 with 1 Axes>"
      ]
     },
     "metadata": {
      "needs_background": "light"
     },
     "output_type": "display_data"
    }
   ],
   "source": [
    "fig = plt.figure(figsize=(10,8))\n",
    "bar = plt.bar(x = ['0-2', '2-4','4-7','7-14']\n",
    "              ,\n",
    "     height = [sum_gap_older[0]/older_client, sum_gap_older[1]/older_client,\n",
    "               sum_gap_older[2]/older_client, sum_gap_older[3]/older_client], \n",
    "     width=0.8, bottom=None,align='center', data=None)\n",
    "\n",
    "axes = plt.gca()\n",
    "axes.set_ylabel('Nº de chamadas')\n",
    "axes.set_xlabel('Intervalo de dias')\n",
    "plt.suptitle('Número médio de chamados após credenciamento', y=0.91)       \n",
    "\n",
    "plt.show()"
   ]
  },
  {
   "cell_type": "markdown",
   "metadata": {},
   "source": [
    "É possível perceber uma diferença nos 7 primeiros dias de credenciamento.<br>\n",
    "Enquanto clientes mais recentes fazem mais chamados no período de 0-2 dias após credenciamento, clientes mais antigos \n",
    "fizeram em media mais chamados no período de 2-4 dias. Além de termos uma diferença no período de 7-14 dias. "
   ]
  },
  {
   "cell_type": "markdown",
   "metadata": {},
   "source": [
    "Para a questão 3, o método de clusterização seria com base no tempo de credenciamento e o chamado. Como podemos ver no gráfico abaixo do numero de chamados médios nos primeiros 60 após a homologação, temos um numero de chamados bem expressivo nos primeiros dias.<br>\n",
    "A ideia seria priorizar os clientes no seu primeiro mês, pois além de passar uma segurança maior para os mesmos, provavelmente são problemas e dúvidas mais fáceis de serem resolvidas e que provavelmente já possuem um certo protocolo. "
   ]
  },
  {
   "cell_type": "code",
   "execution_count": 11,
   "metadata": {},
   "outputs": [],
   "source": [
    "sum_gap,client = query_interval(clients,'long')"
   ]
  },
  {
   "cell_type": "code",
   "execution_count": 12,
   "metadata": {},
   "outputs": [
    {
     "data": {
      "image/png": "[encoded data removed]",
      "text/plain": [
       "<Figure size 720x576 with 1 Axes>"
      ]
     },
     "metadata": {
      "needs_background": "light"
     },
     "output_type": "display_data"
    }
   ],
   "source": [
    "fig = plt.figure(figsize=(10,8))\n",
    "bar = plt.bar(x = ['0-7', '7-14','14-30','30-60']\n",
    "              ,\n",
    "     height = [sum_gap[0]/client, sum_gap[1]/client,\n",
    "               sum_gap[2]/client, sum_gap[3]/client], \n",
    "     width=0.8, bottom=None,align='center', data=None)\n",
    "\n",
    "axes = plt.gca()\n",
    "axes.set_ylabel('Nº de chamadas')\n",
    "axes.set_xlabel('Intervalo de dias')\n",
    "plt.suptitle('Número médio de chamados após credenciamento', y=0.91)       \n",
    "\n",
    "plt.show()"
   ]
  },
  {
   "cell_type": "markdown",
   "metadata": {},
   "source": [
    "Para a questão 4 basta usar as funções ja desenvolvidas!<br>\n",
    "Incompleta."
   ]
  },
  {
   "cell_type": "code",
   "execution_count": null,
   "metadata": {},
   "outputs": [],
   "source": [
    "def cluster_query:\n",
    "    \n",
    "    query_result = []\n",
    "    \n",
    "    conn = sqlite3.connect('ton.db')\n",
    "\n",
    "    #create cursor\n",
    "    c = conn.cursor()\n",
    "    \n",
    "    c.execute(\"\"\"SELECT creds.accountid FROM creds\"\"\")\n",
    "    #query de todos os clientes\n",
    "\n",
    "    clients = c.fetchall()\n",
    "\n",
    "    for id in array:\n",
    "\n",
    "        #query the database\n",
    "        c.execute(\"\"\"SELECT creds.cred_date, cases.date_ref  \n",
    "                    FROM cases, creds on cases.accountid = creds.accountid \n",
    "                    WHERE cases.accountid=(?) \"\"\", id)#uma query para cada id retornando um array com as datas\n",
    "        # de credenciamento e de chamadas \n",
    "\n",
    "        join_query = c.fetchall()\n",
    "        client_calls = np.array(utils.client_calls(join_query, key)) #explicação da função no arquivo utils \n",
    "\n",
    "        sum_gap += client_calls\n",
    "        client += 1\n",
    "        \n",
    "    #commit our command\n",
    "    conn.commit()\n",
    "\n",
    "    #close connection\n",
    "    conn.close()"
   ]
  }
 ],
 "metadata": {
  "kernelspec": {
   "display_name": "Python 3",
   "language": "python",
   "name": "python3"
  },
  "language_info": {
   "codemirror_mode": {
    "name": "ipython",
    "version": 3
   },
   "file_extension": ".py",
   "mimetype": "text/x-python",
   "name": "python",
   "nbconvert_exporter": "python",
   "pygments_lexer": "ipython3",
   "version": "3.7.6"
  }
 },
 "nbformat": 4,
 "nbformat_minor": 4
}
