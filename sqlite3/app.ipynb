{
 "cells": [
  {
   "cell_type": "code",
   "execution_count": 1,
   "metadata": {},
   "outputs": [],
   "source": [
    "import sqlite3"
   ]
  },
  {
   "cell_type": "code",
   "execution_count": 2,
   "metadata": {},
   "outputs": [],
   "source": [
    "#query database and return all records\n",
    "def show_all():\n",
    "    conn = sqlite3.connect('customer.db')\n",
    "\n",
    "    #create cursor\n",
    "    c = conn.cursor()\n",
    "    \n",
    "    #query database\n",
    "    c.execute(\"SELECT rowid, * FROM costumers\")\n",
    "    items = c.fetchall()\n",
    "\n",
    "    for item in items:\n",
    "        print(item)\n",
    "        \n",
    "    #commit our command\n",
    "    #conn.commit()\n",
    "\n",
    "    #close connection\n",
    "    conn.close()    "
   ]
  },
  {
   "cell_type": "code",
   "execution_count": 3,
   "metadata": {},
   "outputs": [
    {
     "name": "stdout",
     "output_type": "stream",
     "text": [
      "(1, 'John', 'Elder', 'john@codemy.com')\n",
      "(2, 'Gabriel', 'Muller', 'gabriel@codemy.com')\n",
      "(3, 'Lukas', 'Muller', 'lukasmullerdeoliveira@codemy.com')\n",
      "(4, 'Ingrid', 'Muller', 'dida_muller@hotmail.com')\n",
      "(5, 'Francisco', 'Jose', 'fpinheir@gmail.com')\n",
      "(6, 'Wes', 'Brown', 'wes@brown.com')\n",
      "(7, 'Steph', 'Kuewa', 'steph@kuewa.com')\n",
      "(8, 'Dan', 'Pas', 'dan@pas.com')\n"
     ]
    }
   ],
   "source": [
    "show_all()"
   ]
  },
  {
   "cell_type": "code",
   "execution_count": 5,
   "metadata": {},
   "outputs": [],
   "source": [
    "#add a new record to the table\n",
    "def add_one(first, last, email):\n",
    "    conn = sqlite3.connect('customer.db')\n",
    "\n",
    "    #create cursor\n",
    "    c = conn.cursor()\n",
    "\n",
    "    c.execute(\"INSERT INTO costumers VALUES(?,?,?)\",(first,last,email))\n",
    "\n",
    "    print('Commnad executed succesfully')\n",
    "    #commit our command\n",
    "    conn.commit()\n",
    "\n",
    "    #close connection\n",
    "    conn.close()"
   ]
  },
  {
   "cell_type": "code",
   "execution_count": 6,
   "metadata": {},
   "outputs": [
    {
     "name": "stdout",
     "output_type": "stream",
     "text": [
      "Commnad executed succesfully\n"
     ]
    }
   ],
   "source": [
    "add_one('Laura','Smith','laura@smith.com')"
   ]
  },
  {
   "cell_type": "code",
   "execution_count": 7,
   "metadata": {},
   "outputs": [
    {
     "name": "stdout",
     "output_type": "stream",
     "text": [
      "(1, 'John', 'Elder', 'john@codemy.com')\n",
      "(2, 'Gabriel', 'Muller', 'gabriel@codemy.com')\n",
      "(3, 'Lukas', 'Muller', 'lukasmullerdeoliveira@codemy.com')\n",
      "(4, 'Ingrid', 'Muller', 'dida_muller@hotmail.com')\n",
      "(5, 'Francisco', 'Jose', 'fpinheir@gmail.com')\n",
      "(6, 'Wes', 'Brown', 'wes@brown.com')\n",
      "(7, 'Steph', 'Kuewa', 'steph@kuewa.com')\n",
      "(8, 'Dan', 'Pas', 'dan@pas.com')\n",
      "(9, 'Laura', 'Smith', 'laura@smith.com')\n"
     ]
    }
   ],
   "source": [
    "show_all()"
   ]
  },
  {
   "cell_type": "code",
   "execution_count": 8,
   "metadata": {},
   "outputs": [],
   "source": [
    "def delete_one(id):\n",
    "    conn = sqlite3.connect('customer.db')\n",
    "\n",
    "    #create cursor\n",
    "    c = conn.cursor()\n",
    "\n",
    "    c.execute(\"DELETE FROM costumers WHERE rowid = (?)\",id)\n",
    "\n",
    "    print('Command executed succesfully')\n",
    "    #commit our command\n",
    "    conn.commit()\n",
    "\n",
    "    #close connection\n",
    "    conn.close()"
   ]
  },
  {
   "cell_type": "code",
   "execution_count": 9,
   "metadata": {},
   "outputs": [
    {
     "name": "stdout",
     "output_type": "stream",
     "text": [
      "Command executed succesfully\n"
     ]
    }
   ],
   "source": [
    "delete_one('6')"
   ]
  },
  {
   "cell_type": "code",
   "execution_count": 10,
   "metadata": {},
   "outputs": [
    {
     "name": "stdout",
     "output_type": "stream",
     "text": [
      "(1, 'John', 'Elder', 'john@codemy.com')\n",
      "(2, 'Gabriel', 'Muller', 'gabriel@codemy.com')\n",
      "(3, 'Lukas', 'Muller', 'lukasmullerdeoliveira@codemy.com')\n",
      "(4, 'Ingrid', 'Muller', 'dida_muller@hotmail.com')\n",
      "(5, 'Francisco', 'Jose', 'fpinheir@gmail.com')\n",
      "(7, 'Steph', 'Kuewa', 'steph@kuewa.com')\n",
      "(8, 'Dan', 'Pas', 'dan@pas.com')\n",
      "(9, 'Laura', 'Smith', 'laura@smith.com')\n"
     ]
    }
   ],
   "source": [
    "show_all()"
   ]
  },
  {
   "cell_type": "code",
   "execution_count": 11,
   "metadata": {},
   "outputs": [],
   "source": [
    "def add_many(list):\n",
    "    conn = sqlite3.connect('customer.db')\n",
    "\n",
    "    #create cursor\n",
    "    c = conn.cursor()\n",
    "\n",
    "    c.executemany(\"INSERT INTO costumers VALUES (?,?,?)\", list)\n",
    "\n",
    "    print('Command executed succesfully')\n",
    "    #commit our command\n",
    "    conn.commit()\n",
    "\n",
    "    #close connection\n",
    "    conn.close()"
   ]
  },
  {
   "cell_type": "code",
   "execution_count": 12,
   "metadata": {},
   "outputs": [
    {
     "name": "stdout",
     "output_type": "stream",
     "text": [
      "Command executed succesfully\n"
     ]
    }
   ],
   "source": [
    "stuff = [\n",
    "    ('Brenda','Venancio','vrenda@benancio.com'),\n",
    "    ('Cecilia','Silva','cissa@silva.com')\n",
    "]\n",
    "\n",
    "add_many(stuff)"
   ]
  },
  {
   "cell_type": "code",
   "execution_count": 13,
   "metadata": {},
   "outputs": [
    {
     "name": "stdout",
     "output_type": "stream",
     "text": [
      "(1, 'John', 'Elder', 'john@codemy.com')\n",
      "(2, 'Gabriel', 'Muller', 'gabriel@codemy.com')\n",
      "(3, 'Lukas', 'Muller', 'lukasmullerdeoliveira@codemy.com')\n",
      "(4, 'Ingrid', 'Muller', 'dida_muller@hotmail.com')\n",
      "(5, 'Francisco', 'Jose', 'fpinheir@gmail.com')\n",
      "(7, 'Steph', 'Kuewa', 'steph@kuewa.com')\n",
      "(8, 'Dan', 'Pas', 'dan@pas.com')\n",
      "(9, 'Laura', 'Smith', 'laura@smith.com')\n",
      "(10, 'Brenda', 'Venancio', 'vrenda@benancio.com')\n",
      "(11, 'Cecilia', 'Silva', 'cissa@silva.com')\n"
     ]
    }
   ],
   "source": [
    "show_all()"
   ]
  },
  {
   "cell_type": "code",
   "execution_count": 24,
   "metadata": {},
   "outputs": [],
   "source": [
    "def email_lookup(email):\n",
    "    conn = sqlite3.connect('customer.db')\n",
    "\n",
    "    #create cursor\n",
    "    c = conn.cursor()\n",
    "\n",
    "    #query the database\n",
    "    c.execute(\"SELECT  rowid,* FROM costumers WHERE email = (?)\", (email,))\n",
    "\n",
    "\n",
    "    items = c.fetchall()\n",
    "\n",
    "    for item in items:\n",
    "        print(item)\n",
    "\n",
    "    #close connection\n",
    "    conn.close()"
   ]
  },
  {
   "cell_type": "code",
   "execution_count": 25,
   "metadata": {},
   "outputs": [
    {
     "name": "stdout",
     "output_type": "stream",
     "text": [
      "(11, 'Cecilia', 'Silva', 'cissa@silva.com')\n"
     ]
    }
   ],
   "source": [
    "email_lookup(\"cissa@silva.com\")"
   ]
  }
 ],
 "metadata": {
  "kernelspec": {
   "display_name": "Python 3",
   "language": "python",
   "name": "python3"
  },
  "language_info": {
   "codemirror_mode": {
    "name": "ipython",
    "version": 3
   },
   "file_extension": ".py",
   "mimetype": "text/x-python",
   "name": "python",
   "nbconvert_exporter": "python",
   "pygments_lexer": "ipython3",
   "version": "3.7.6"
  }
 },
 "nbformat": 4,
 "nbformat_minor": 4
}
